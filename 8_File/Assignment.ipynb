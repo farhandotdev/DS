{
 "cells": [
  {
   "cell_type": "code",
   "execution_count": 1,
   "metadata": {},
   "outputs": [
    {
     "name": "stdout",
     "output_type": "stream",
     "text": [
      "66 1856 "
     ]
    }
   ],
   "source": [
    "import csv\n",
    "\n",
    "with open('amazon_jobs_dataset.csv') as file_obj:\n",
    "    file_data = csv.DictReader(file_obj, skipinitialspace=True)\n",
    "    \n",
    "    opening={}\n",
    "    opening['IN, KA, Bangalore']=0\n",
    "    opening['US, WA, Seattle']=0\n",
    "\n",
    "    for row in file_data:\n",
    "        if row['location'] == 'IN, KA, Bangalore ':\n",
    "            opening['IN, KA, Bangalore']+= 1\n",
    "        elif row['location'] == 'US, WA, Seattle ':\n",
    "            opening['US, WA, Seattle']+= 1\n",
    "\n",
    "    for i in opening:\n",
    "        print(opening[i], end=' ')"
   ]
  },
  {
   "cell_type": "code",
   "execution_count": 8,
   "metadata": {},
   "outputs": [
    {
     "name": "stdout",
     "output_type": "stream",
     "text": [
      "14\n"
     ]
    }
   ],
   "source": [
    "import csv \n",
    "\n",
    "with open('amazon_jobs_dataset.csv') as file_obj:\n",
    "    file_data = csv.DictReader(file_obj, skipinitialspace=True)\n",
    "    file_list = list(file_data)\n",
    "    count = 0\n",
    "\n",
    "    for row in file_list:\n",
    "        a = row['Title'].split()\n",
    "        if 'Vision' in a:\n",
    "            count += 1\n",
    "        \n",
    "print(count)"
   ]
  },
  {
   "cell_type": "code",
   "execution_count": 22,
   "metadata": {},
   "outputs": [
    {
     "name": "stdout",
     "output_type": "stream",
     "text": [
      "156\n"
     ]
    }
   ],
   "source": [
    "import csv\n",
    "\n",
    "with open('amazon_jobs_dataset.csv') as file_obj:\n",
    "    file_data = csv.DictReader(file_obj, skipinitialspace=True)\n",
    "    file_list = list(file_data)\n",
    "    count = 0\n",
    "    for row in file_list:\n",
    "        l = row['location'].split()\n",
    "        if not('US,' in l and 'CA,' in l) and 'CA,' in l:\n",
    "            count += 1\n",
    "\n",
    "print(count)"
   ]
  },
  {
   "cell_type": "code",
   "execution_count": 27,
   "metadata": {},
   "outputs": [
    {
     "name": "stdout",
     "output_type": "stream",
     "text": [
      "January 907\n"
     ]
    }
   ],
   "source": [
    "import csv\n",
    "\n",
    "with open('amazon_jobs_dataset.csv') as file_obj:\n",
    "    file_data = csv.DictReader(file_obj, skipinitialspace=True)\n",
    "    file_list = list(file_data)\n",
    "    y=[]\n",
    "\n",
    "    for row in file_list:\n",
    "        a=row['Posting_date'].split()\n",
    "        if '2018' in a:\n",
    "            y.append(a)\n",
    "month_job={}\n",
    "for i in y:\n",
    "    key = i[0]\n",
    "    if key in month_job:\n",
    "        month_job[key] += 1\n",
    "    else:\n",
    "        month_job[key] = 1\n",
    "\n",
    "freq=0\n",
    "maxMonth ='x'\n",
    "for i in month_job:\n",
    "    if month_job[i]>freq:\n",
    "        freq=month_job[i]\n",
    "        maxMonth = i\n",
    "\n",
    "print(maxMonth, freq)"
   ]
  },
  {
   "cell_type": "code",
   "execution_count": 13,
   "metadata": {},
   "outputs": [
    {
     "name": "stdout",
     "output_type": "stream",
     "text": [
      "2961\n"
     ]
    }
   ],
   "source": [
    "import csv\n",
    "\n",
    "with open('amazon_jobs_dataset.csv') as file_obj:\n",
    "    file_data = csv.DictReader(file_obj, skipinitialspace=True)\n",
    "    file_list = list(file_data)\n",
    "    count=0\n",
    "    for row in file_list:\n",
    "        a = row['BASIC QUALIFICATIONS']\n",
    "        if (\"Bachelor\" in a or \"BA\" in a or \"BS\" in a):\n",
    "            count+=1\n",
    "\n",
    "print(count)"
   ]
  },
  {
   "cell_type": "code",
   "execution_count": 33,
   "metadata": {},
   "outputs": [
    {
     "name": "stdout",
     "output_type": "stream",
     "text": [
      "Java 103\n"
     ]
    }
   ],
   "source": [
    "import csv\n",
    "\n",
    "with open('amazon_jobs_dataset.csv') as file_obj:\n",
    "    file_data = csv.DictReader(file_obj, skipinitialspace=True)\n",
    "    file_list = list(file_data)\n",
    "    lan={}\n",
    "    lan['Java']=0\n",
    "    lan['C++']=0\n",
    "    lan['Python']=0\n",
    "\n",
    "    for i in file_list:\n",
    "        loc = i['location'].strip().split(',')\n",
    "\n",
    "        a = i['BASIC QUALIFICATIONS']\n",
    "        if 'Java' in a and (\"Bachelor\" in a or \"BA\" in a or \"BS\" in a) and (loc[0] == 'IN'):\n",
    "            lan['Java'] += 1\n",
    "        elif 'C++' in a and (\"Bachelor\" in a or \"BA\" in a or \"BS\" in a) and (loc[0] == 'IN'):\n",
    "            lan['C++'] += 1\n",
    "        elif 'Python' in a and (\"Bachelor\" in a or \"BA\" in a or \"BS\" in a) and (loc[0] == 'IN'):\n",
    "            lan['Python'] += 1\n",
    "    \n",
    "count=0\n",
    "language='x'\n",
    "for i in lan.keys():\n",
    "    if lan[i]>count:\n",
    "        count=lan[i]\n",
    "        language=i\n",
    "print(language, count)"
   ]
  },
  {
   "cell_type": "code",
   "execution_count": 34,
   "metadata": {},
   "outputs": [
    {
     "name": "stdout",
     "output_type": "stream",
     "text": [
      "US 2009\n"
     ]
    }
   ],
   "source": [
    "import csv \n",
    "\n",
    "with open('amazon_jobs_dataset.csv') as file_obj:\n",
    "    file_data = csv.DictReader(file_obj, skipinitialspace=True)\n",
    "    file_list = list(file_data)\n",
    "    dic={}\n",
    "\n",
    "    for i in file_list:\n",
    "        country = i['location'].split(',')[0]\n",
    "        a = i['BASIC QUALIFICATIONS']\n",
    "\n",
    "        if 'Java' in a:\n",
    "            if country in dic.keys():\n",
    "                dic[country] += 1\n",
    "            else:\n",
    "                dic[country] = 1\n",
    "        \n",
    "count=0\n",
    "country='x'\n",
    "for i in dic:\n",
    "    if dic[i]>count:\n",
    "        count = dic[i]\n",
    "        country = i\n",
    "print(country, count)"
   ]
  }
 ],
 "metadata": {
  "kernelspec": {
   "display_name": "Python 3",
   "language": "python",
   "name": "python3"
  },
  "language_info": {
   "codemirror_mode": {
    "name": "ipython",
    "version": 3
   },
   "file_extension": ".py",
   "mimetype": "text/x-python",
   "name": "python",
   "nbconvert_exporter": "python",
   "pygments_lexer": "ipython3",
   "version": "3.11.6"
  },
  "orig_nbformat": 4
 },
 "nbformat": 4,
 "nbformat_minor": 2
}
