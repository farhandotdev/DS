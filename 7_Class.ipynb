{
 "cells": [
  {
   "attachments": {},
   "cell_type": "markdown",
   "metadata": {},
   "source": [
    "### OOP"
   ]
  },
  {
   "cell_type": "code",
   "execution_count": 1,
   "metadata": {},
   "outputs": [],
   "source": [
    "class Student:\n",
    "    pass"
   ]
  },
  {
   "cell_type": "code",
   "execution_count": 2,
   "metadata": {},
   "outputs": [],
   "source": [
    "s1 = Student()\n",
    "s2 = Student()\n",
    "s3 = Student()\n",
    "\n",
    "s1.name = 'Farhan'\n",
    "s1.age = 20\n",
    "\n",
    "s2.rollNo = 101\n",
    "\n",
    "s3.age = 21"
   ]
  },
  {
   "cell_type": "code",
   "execution_count": 4,
   "metadata": {},
   "outputs": [
    {
     "name": "stdout",
     "output_type": "stream",
     "text": [
      "{'name': 'Farhan', 'age': 20}\n",
      "{'rollNo': 101}\n",
      "{'age': 21}\n"
     ]
    }
   ],
   "source": [
    "print(s1.__dict__)\n",
    "print(s2.__dict__)\n",
    "print(s3.__dict__)"
   ]
  },
  {
   "cell_type": "code",
   "execution_count": 5,
   "metadata": {},
   "outputs": [
    {
     "name": "stdout",
     "output_type": "stream",
     "text": [
      "True\n"
     ]
    }
   ],
   "source": [
    "print(hasattr(s1,'name'))"
   ]
  },
  {
   "cell_type": "code",
   "execution_count": 7,
   "metadata": {},
   "outputs": [
    {
     "name": "stdout",
     "output_type": "stream",
     "text": [
      "{'rollNo': 101, 'name': 'Faizan'}\n"
     ]
    }
   ],
   "source": [
    "setattr(s2,'name','Faizan')\n",
    "print(s2.__dict__)"
   ]
  },
  {
   "cell_type": "code",
   "execution_count": 10,
   "metadata": {},
   "outputs": [
    {
     "data": {
      "text/plain": [
       "21"
      ]
     },
     "execution_count": 10,
     "metadata": {},
     "output_type": "execute_result"
    }
   ],
   "source": [
    "getattr(s3,'age','default_value')"
   ]
  },
  {
   "cell_type": "code",
   "execution_count": 11,
   "metadata": {},
   "outputs": [],
   "source": [
    "delattr(s2,'name')\n"
   ]
  },
  {
   "cell_type": "code",
   "execution_count": 12,
   "metadata": {},
   "outputs": [
    {
     "name": "stdout",
     "output_type": "stream",
     "text": [
      "{'rollNo': 101}\n"
     ]
    }
   ],
   "source": [
    "print(s2.__dict__)"
   ]
  },
  {
   "attachments": {},
   "cell_type": "markdown",
   "metadata": {},
   "source": [
    "Methods\n"
   ]
  },
  {
   "cell_type": "code",
   "execution_count": 21,
   "metadata": {},
   "outputs": [
    {
     "name": "stdout",
     "output_type": "stream",
     "text": [
      "Piyush\n",
      "Piyush\n",
      "Piyush\n"
     ]
    }
   ],
   "source": [
    "class StudentDetail:\n",
    "    #class attribute\n",
    "    totalStudent = 20\n",
    "    classTeacher = 'Piyush'\n",
    "\n",
    "    #Instance method {not a class method}\n",
    "    #'self'-reference to current object\n",
    "    def printHello(self):\n",
    "        print('Hello')\n",
    "\n",
    "    def getName(self,str):\n",
    "        print(str)\n",
    "\n",
    "    def printName(self):\n",
    "        name = 'xyz'\n",
    "        print(self.name)\n",
    "        print(name)\n",
    "\n",
    "\n",
    "s1 = StudentDetail()\n",
    "s2 = StudentDetail()\n",
    "\n",
    "print(StudentDetail.classTeacher)\n",
    "print(s1.classTeacher)\n",
    "print(s2.classTeacher)"
   ]
  },
  {
   "cell_type": "code",
   "execution_count": 15,
   "metadata": {},
   "outputs": [
    {
     "name": "stdout",
     "output_type": "stream",
     "text": [
      "20\n",
      "30\n",
      "20\n"
     ]
    }
   ],
   "source": [
    "s1.totalStudent = 30\n",
    "\n",
    "print(StudentDetail.totalStudent)\n",
    "print(s1.totalStudent)  #it will create an instance variable rather than updating class variable\n",
    "print(s2.totalStudent)"
   ]
  },
  {
   "cell_type": "code",
   "execution_count": 16,
   "metadata": {},
   "outputs": [
    {
     "name": "stdout",
     "output_type": "stream",
     "text": [
      "Hello\n"
     ]
    }
   ],
   "source": [
    "s1.printHello()"
   ]
  },
  {
   "cell_type": "code",
   "execution_count": 19,
   "metadata": {},
   "outputs": [
    {
     "name": "stdout",
     "output_type": "stream",
     "text": [
      "Faizan\n"
     ]
    }
   ],
   "source": [
    "s1.getName('Faizan')"
   ]
  },
  {
   "cell_type": "code",
   "execution_count": 22,
   "metadata": {},
   "outputs": [
    {
     "name": "stdout",
     "output_type": "stream",
     "text": [
      "Farhan\n",
      "xyz\n"
     ]
    }
   ],
   "source": [
    "s1.name = 'Farhan'\n",
    "s1.printName()"
   ]
  },
  {
   "cell_type": "code",
   "execution_count": 23,
   "metadata": {},
   "outputs": [
    {
     "ename": "TypeError",
     "evalue": "StudentDetail.printHello() missing 1 required positional argument: 'self'",
     "output_type": "error",
     "traceback": [
      "\u001b[0;31m---------------------------------------------------------------------------\u001b[0m",
      "\u001b[0;31mTypeError\u001b[0m                                 Traceback (most recent call last)",
      "Cell \u001b[0;32mIn[23], line 1\u001b[0m\n\u001b[0;32m----> 1\u001b[0m StudentDetail\u001b[39m.\u001b[39;49mprintHello()\n",
      "\u001b[0;31mTypeError\u001b[0m: StudentDetail.printHello() missing 1 required positional argument: 'self'"
     ]
    }
   ],
   "source": [
    "StudentDetail.printHello() #we can not get access of instance method without explicitly passing object"
   ]
  },
  {
   "cell_type": "code",
   "execution_count": 26,
   "metadata": {},
   "outputs": [
    {
     "name": "stdout",
     "output_type": "stream",
     "text": [
      "Hello\n"
     ]
    }
   ],
   "source": [
    "StudentDetail.printHello(s1)"
   ]
  },
  {
   "cell_type": "code",
   "execution_count": 17,
   "metadata": {},
   "outputs": [],
   "source": [
    "class Students:\n",
    "    # class attribute\n",
    "    __totalStudent = 20    #private attribute\n",
    "    teacherName = 'Shoaib'\n",
    "\n",
    "    def __init__(self,name,age,rn):\n",
    "        self.__name = name\n",
    "        self.age = age\n",
    "        self.rollNo = rn\n",
    "    \n",
    "    def getName(self):\n",
    "        return self.__name\n",
    "    \n",
    "    def setName(self,name):\n",
    "        if name == '':\n",
    "           return \n",
    "        self.__name = name\n",
    "    \n",
    "s1 = Students('Farhan', 20, 101)\n",
    "s2 = Students('Faizan', 21, 102)\n"
   ]
  },
  {
   "cell_type": "code",
   "execution_count": 18,
   "metadata": {},
   "outputs": [],
   "source": [
    "s1.setName('')"
   ]
  },
  {
   "cell_type": "code",
   "execution_count": 19,
   "metadata": {},
   "outputs": [
    {
     "name": "stdout",
     "output_type": "stream",
     "text": [
      "{'_Students__name': 'Farhan', 'age': 20, 'rollNo': 101}\n",
      "{'_Students__name': 'Faizan', 'age': 21, 'rollNo': 102}\n"
     ]
    }
   ],
   "source": [
    "print(s1.__dict__)\n",
    "print(s2.__dict__)"
   ]
  },
  {
   "cell_type": "code",
   "execution_count": 8,
   "metadata": {},
   "outputs": [
    {
     "ename": "AttributeError",
     "evalue": "'Students' object has no attribute 'name'",
     "output_type": "error",
     "traceback": [
      "\u001b[0;31m---------------------------------------------------------------------------\u001b[0m",
      "\u001b[0;31mAttributeError\u001b[0m                            Traceback (most recent call last)",
      "Cell \u001b[0;32mIn[8], line 1\u001b[0m\n\u001b[0;32m----> 1\u001b[0m \u001b[39mprint\u001b[39m(s1\u001b[39m.\u001b[39;49mname)\n",
      "\u001b[0;31mAttributeError\u001b[0m: 'Students' object has no attribute 'name'"
     ]
    }
   ],
   "source": [
    "print(s1.name)"
   ]
  },
  {
   "cell_type": "code",
   "execution_count": 9,
   "metadata": {},
   "outputs": [
    {
     "ename": "AttributeError",
     "evalue": "'Students' object has no attribute '__name'",
     "output_type": "error",
     "traceback": [
      "\u001b[0;31m---------------------------------------------------------------------------\u001b[0m",
      "\u001b[0;31mAttributeError\u001b[0m                            Traceback (most recent call last)",
      "Cell \u001b[0;32mIn[9], line 1\u001b[0m\n\u001b[0;32m----> 1\u001b[0m \u001b[39mprint\u001b[39m(s1\u001b[39m.\u001b[39;49m__name)\n",
      "\u001b[0;31mAttributeError\u001b[0m: 'Students' object has no attribute '__name'"
     ]
    }
   ],
   "source": [
    "print(s1.__name)"
   ]
  },
  {
   "attachments": {},
   "cell_type": "markdown",
   "metadata": {},
   "source": [
    "Name mangling in Python\n",
    "\n",
    "objectName._ClassName__privateVariableORprivateMethod\n",
    "eg: s1._Student__name"
   ]
  },
  {
   "cell_type": "code",
   "execution_count": 11,
   "metadata": {},
   "outputs": [
    {
     "name": "stdout",
     "output_type": "stream",
     "text": [
      "Farhan\n",
      "Faizan\n"
     ]
    }
   ],
   "source": [
    "#by using name mangling\n",
    "\n",
    "print(s1._Students__name)  \n",
    "print(s2._Students__name)"
   ]
  },
  {
   "cell_type": "code",
   "execution_count": 13,
   "metadata": {},
   "outputs": [
    {
     "name": "stdout",
     "output_type": "stream",
     "text": [
      "Shoaib\n"
     ]
    }
   ],
   "source": [
    "print(Students.teacherName)"
   ]
  },
  {
   "cell_type": "code",
   "execution_count": 12,
   "metadata": {},
   "outputs": [
    {
     "ename": "AttributeError",
     "evalue": "type object 'Students' has no attribute '__totalStudent'",
     "output_type": "error",
     "traceback": [
      "\u001b[0;31m---------------------------------------------------------------------------\u001b[0m",
      "\u001b[0;31mAttributeError\u001b[0m                            Traceback (most recent call last)",
      "Cell \u001b[0;32mIn[12], line 1\u001b[0m\n\u001b[0;32m----> 1\u001b[0m \u001b[39mprint\u001b[39m(Students\u001b[39m.\u001b[39;49m__totalStudent)\n",
      "\u001b[0;31mAttributeError\u001b[0m: type object 'Students' has no attribute '__totalStudent'"
     ]
    }
   ],
   "source": [
    "print(Students.__totalStudent)"
   ]
  },
  {
   "cell_type": "code",
   "execution_count": 14,
   "metadata": {},
   "outputs": [
    {
     "name": "stdout",
     "output_type": "stream",
     "text": [
      "20\n"
     ]
    }
   ],
   "source": [
    "print(Students._Students__totalStudent)  #by using name mangling"
   ]
  },
  {
   "cell_type": "code",
   "execution_count": 6,
   "metadata": {},
   "outputs": [
    {
     "name": "stdout",
     "output_type": "stream",
     "text": [
      "{'name': 'Farhan', 'age': 20, '_Employee__eid': 'e101'}\n",
      "100\n",
      "100\n"
     ]
    }
   ],
   "source": [
    "class Employee:\n",
    "    __totalEmployee = 100\n",
    "    manager = 'Faizan'\n",
    "\n",
    "    @classmethod\n",
    "    def getTEmployee(cls):\n",
    "        return(Employee.__totalEmployee)\n",
    "\n",
    "    def __init__(self,name,age,eid):\n",
    "        self.name = name\n",
    "        self.age = age\n",
    "        self.__eid = eid\n",
    "\n",
    "    def getEid(self):\n",
    "        return self.__eid\n",
    "    def getTEmp(self):\n",
    "        return self.__totalEmployee\n",
    "\n",
    "e1 = Employee('Farhan',20,'e101')\n",
    "\n",
    "print(e1.__dict__)\n",
    "# print(Employee.__totalEmployee) - it can not execute because Python didn't recognize __totalEmployee as a attribute of Employee class because __totalEmployee is a private attribute.\n",
    "print(Employee.getTEmployee())\n",
    "#we can access __private attribute via instance methods as well but it is a class attribute so you need to access it via class method and you can create class method using the decorator - @classmethod\n",
    "print(e1.getTEmp())  #avoid this technique to access private class attribute\n",
    "\n"
   ]
  }
 ],
 "metadata": {
  "kernelspec": {
   "display_name": "Python 3",
   "language": "python",
   "name": "python3"
  },
  "language_info": {
   "codemirror_mode": {
    "name": "ipython",
    "version": 3
   },
   "file_extension": ".py",
   "mimetype": "text/x-python",
   "name": "python",
   "nbconvert_exporter": "python",
   "pygments_lexer": "ipython3",
   "version": "3.11.6"
  },
  "orig_nbformat": 4
 },
 "nbformat": 4,
 "nbformat_minor": 2
}
