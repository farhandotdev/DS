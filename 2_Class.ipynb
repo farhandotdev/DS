{
 "cells": [
  {
   "cell_type": "code",
   "execution_count": 6,
   "metadata": {},
   "outputs": [
    {
     "name": "stdout",
     "output_type": "stream",
     "text": [
      "1 is a prime no.\n"
     ]
    }
   ],
   "source": [
    "n=int(input(\"Enter a number: \"));\n",
    "flag = False\n",
    "for i in range(2,n):\n",
    "    if n % i == 0:\n",
    "        flag = True\n",
    "\n",
    "if(flag==True):\n",
    "    print(n,\"is not a prime no.\")\n",
    "else:\n",
    "    print(n,\"is a prime no.\")"
   ]
  },
  {
   "cell_type": "code",
   "execution_count": 13,
   "metadata": {},
   "outputs": [
    {
     "name": "stdout",
     "output_type": "stream",
     "text": [
      "fax lax\n",
      "fay lax\n"
     ]
    }
   ],
   "source": [
    "#replace first occurance of a with b\n",
    "s=input()\n",
    "a='x'\n",
    "b='y'\n",
    "p=s.find(a)\n",
    "ans = s\n",
    "if p != -1:\n",
    "    ans = s[:p] + b + s[p+1:]\n",
    "print(s)\n",
    "print(ans)\n"
   ]
  },
  {
   "cell_type": "code",
   "execution_count": 14,
   "metadata": {},
   "outputs": [
    {
     "name": "stdout",
     "output_type": "stream",
     "text": [
      "fax lax\n",
      "fay lay\n"
     ]
    }
   ],
   "source": [
    "#replace all occurances of a with b\n",
    "s=input()\n",
    "a='x'\n",
    "b='y'\n",
    "ans=s\n",
    "for i in range(len(ans)):\n",
    "    if ans[i] == a:\n",
    "        ans = ans[:i] + b + ans[i+1:]\n",
    "print(s)\n",
    "print(ans)"
   ]
  }
 ],
 "metadata": {
  "kernelspec": {
   "display_name": "Python 3",
   "language": "python",
   "name": "python3"
  },
  "language_info": {
   "codemirror_mode": {
    "name": "ipython",
    "version": 3
   },
   "file_extension": ".py",
   "mimetype": "text/x-python",
   "name": "python",
   "nbconvert_exporter": "python",
   "pygments_lexer": "ipython3",
   "version": "3.11.6"
  },
  "orig_nbformat": 4
 },
 "nbformat": 4,
 "nbformat_minor": 2
}
